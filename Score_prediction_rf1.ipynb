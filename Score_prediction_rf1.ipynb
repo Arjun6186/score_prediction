{
 "cells": [
  {
   "cell_type": "code",
   "execution_count": 21,
   "metadata": {},
   "outputs": [],
   "source": [
    "import pandas as pd\n",
    "import numpy as np\n",
    "from sklearn.model_selection import train_test_split\n",
    "from sklearn.preprocessing import StandardScaler\n",
    "from sklearn.ensemble import RandomForestRegressor\n",
    "def predict(number1,number2,number3,number4,number5,number6):\n",
    "    if(number6==\"ODI\"):\n",
    "        dataset=pd.read_csv('odi.csv')\n",
    "    elif(number6==\"IPL\"):\n",
    "        dataset=pd.read_csv(\"ipl.csv\")\n",
    "    X = dataset.iloc[:,[7,8,9,12,13]].values\n",
    "    y = dataset.iloc[:, 14].values\n",
    "    X_train, X_test, y_train, y_test = train_test_split(X, y, test_size = 0.25, random_state = 0)\n",
    "    sc = StandardScaler()\n",
    "    X_train = sc.fit_transform(X_train)\n",
    "    X_test = sc.transform(X_test)\n",
    "    reg = RandomForestRegressor(n_estimators=70,max_features=None)\n",
    "    reg.fit(X_train,y_train)# Testing the dataset on trained model\n",
    "    result = reg.predict(sc.transform(np.array([[number1,number2,number3,number4,number5]])))\n",
    "    return result[0]\n",
    "\n",
    "\n",
    "\n"
   ]
  }
 ],
 "metadata": {
  "kernelspec": {
   "display_name": "Python 3",
   "language": "python",
   "name": "python3"
  },
  "language_info": {
   "codemirror_mode": {
    "name": "ipython",
    "version": 3
   },
   "file_extension": ".py",
   "mimetype": "text/x-python",
   "name": "python",
   "nbconvert_exporter": "python",
   "pygments_lexer": "ipython3",
   "version": "3.8.2"
  }
 },
 "nbformat": 4,
 "nbformat_minor": 4
}
