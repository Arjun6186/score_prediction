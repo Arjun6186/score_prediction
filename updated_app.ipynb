{
 "cells": [
  {
   "cell_type": "code",
   "execution_count": null,
   "metadata": {},
   "outputs": [
    {
     "name": "stderr",
     "output_type": "stream",
     "text": [
      " * Running on http://localhost:10213/ (Press CTRL+C to quit)\n",
      "127.0.0.1 - - [31/Jan/2021 22:41:48] \"\u001b[37mGET / HTTP/1.1\u001b[0m\" 200 -\n",
      "127.0.0.1 - - [31/Jan/2021 22:41:48] \"\u001b[37mGET /static/img/score_image.jpg HTTP/1.1\u001b[0m\" 200 -\n",
      "127.0.0.1 - - [31/Jan/2021 22:41:48] \"\u001b[33mGET /favicon.ico HTTP/1.1\u001b[0m\" 404 -\n"
     ]
    }
   ],
   "source": [
    "\n",
    "# A very simple Flask Hello World app for you to get started with...\n",
    "\n",
    "from flask import Flask, request\n",
    "from Score_prediction_rf1 import predict\n",
    "from flask import render_template\n",
    "\n",
    "\n",
    "app = Flask(__name__)\n",
    "app.config[\"DEBUG\"] = True\n",
    "\n",
    "@app.route(\"/\", methods=[\"GET\", \"POST\"])\n",
    "def adder_page():\n",
    "    errors = \"\"\n",
    "    if request.method == \"POST\":\n",
    "        number1=None\n",
    "        number2=None\n",
    "        number3=None\n",
    "        number4=None\n",
    "        number5=None\n",
    "        number6=None\n",
    "        number6=request.form[\"match\"]\n",
    "        try:\n",
    "            number1 = int(request.form[\"runs\"])\n",
    "        except:\n",
    "            errors += \"<p>{!r} is not a number.</p>\\n\".format(request.form[\"runs\"])\n",
    "        try:\n",
    "            number2 = int(request.form[\"wickets\"])\n",
    "        except:\n",
    "            errors += \"<p>{!r} is not a number.</p>\\n\".format(request.form[\"wickets\"])\n",
    "        try:\n",
    "            number3 = float(request.form[\"overs\"])\n",
    "        except:\n",
    "            errors += \"<p>{!r} is not a number.</p>\\n\".format(request.form[\"overs\"])\n",
    "        try:\n",
    "            number4 = int(request.form[\"striker\"])\n",
    "        except:\n",
    "            errors += \"<p>{!r} is not a number.</p>\\n\".format(request.form[\"striker\"])\n",
    "        try:\n",
    "            number5 = int(request.form[\"non_striker\"])\n",
    "        except:\n",
    "            errors += \"<p>{!r} is not a number.</p>\\n\".format(request.form[\"non_striker\"])\n",
    "            \n",
    "\n",
    "        \n",
    "        if number1 is not None and number2 is not None and number3 is not None and number4 is not None and number5 is not None:\n",
    "            result = predict(number1,number2,number3,number4,number5,number6)\n",
    "            return render_template(\"result1.html\",result=result)\n",
    "\n",
    "    return render_template(\"scorepage1.html\")\n",
    "           \n",
    "if __name__== \"__main__\":\n",
    "    from werkzeug.serving import run_simple\n",
    "    run_simple('localhost', 10213, app)\n",
    "\n"
   ]
  },
  {
   "cell_type": "code",
   "execution_count": null,
   "metadata": {},
   "outputs": [],
   "source": []
  }
 ],
 "metadata": {
  "kernelspec": {
   "display_name": "Python 3",
   "language": "python",
   "name": "python3"
  },
  "language_info": {
   "codemirror_mode": {
    "name": "ipython",
    "version": 3
   },
   "file_extension": ".py",
   "mimetype": "text/x-python",
   "name": "python",
   "nbconvert_exporter": "python",
   "pygments_lexer": "ipython3",
   "version": "3.8.2"
  }
 },
 "nbformat": 4,
 "nbformat_minor": 4
}
