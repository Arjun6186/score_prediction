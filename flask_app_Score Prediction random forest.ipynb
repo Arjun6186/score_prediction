{
 "cells": [
  {
   "cell_type": "code",
   "execution_count": null,
   "metadata": {},
   "outputs": [
    {
     "name": "stdout",
     "output_type": "stream",
     "text": [
      "Custom accuracy: 83.8718164596927\n",
      "Prediction score: [228.01428571]\n",
      "R square value: 67.35078083438947\n",
      "Custom accuracy: 83.8718164596927\n"
     ]
    },
    {
     "name": "stderr",
     "output_type": "stream",
     "text": [
      " * Running on http://localhost:10000/ (Press CTRL+C to quit)\n",
      "127.0.0.1 - - [01/Dec/2020 14:24:17] \"\u001b[37mGET / HTTP/1.1\u001b[0m\" 200 -\n",
      "127.0.0.1 - - [01/Dec/2020 14:24:17] \"\u001b[33mGET /favicon.ico HTTP/1.1\u001b[0m\" 404 -\n"
     ]
    }
   ],
   "source": [
    "\n",
    "# A very simple Flask Hello World app for you to get started with...\n",
    "\n",
    "from flask import Flask, request\n",
    "from Score_prediction_rf import predict\n",
    "from flask import render_template\n",
    "\n",
    "\n",
    "app = Flask(__name__)\n",
    "app.config[\"DEBUG\"] = True\n",
    "\n",
    "@app.route(\"/\", methods=[\"GET\", \"POST\"])\n",
    "def adder_page():\n",
    "    errors = \"\"\n",
    "    if request.method == \"POST\":\n",
    "        number1=None\n",
    "        number2=None\n",
    "        number3=None\n",
    "        number4=None\n",
    "        number5=None\n",
    "        try:\n",
    "            number1 = int(request.form[\"runs\"])\n",
    "        except:\n",
    "            errors += \"<p>{!r} is not a number.</p>\\n\".format(request.form[\"runs\"])\n",
    "        try:\n",
    "            number2 = int(request.form[\"wickets\"])\n",
    "        except:\n",
    "            errors += \"<p>{!r} is not a number.</p>\\n\".format(request.form[\"wickets\"])\n",
    "        try:\n",
    "            number3 = float(request.form[\"overs\"])\n",
    "        except:\n",
    "            errors += \"<p>{!r} is not a number.</p>\\n\".format(request.form[\"overs\"])\n",
    "        try:\n",
    "            number4 = int(request.form[\"striker\"])\n",
    "        except:\n",
    "            errors += \"<p>{!r} is not a number.</p>\\n\".format(request.form[\"striker\"])\n",
    "        try:\n",
    "            number5 = int(request.form[\"non_striker\"])\n",
    "        except:\n",
    "            errors += \"<p>{!r} is not a number.</p>\\n\".format(request.form[\"non_striker\"])\n",
    "            \n",
    "\n",
    "        \n",
    "        if number1 is not None and number2 is not None and number3 is not None and number4 is not None and number5 is not None:\n",
    "            result = predict(number1,number2,number3,number4,number5)\n",
    "            return '''\n",
    "                <html>\n",
    "                    <body>\n",
    "                        <p>The result is {result}</p>\n",
    "                        <p><a href=\"/\">Click here to calculate again</a><br>\n",
    "                       </body>\n",
    "                </html>\n",
    "            '''.format(result=result)\n",
    "\n",
    "    return '''\n",
    "        <html>\n",
    "            <body>\n",
    "                {errors}\n",
    "                <form method=\"post\" action=\".\">\n",
    "                    <label for=\"runs\">Enter the runs</label>\n",
    "                    <input type=\"text\" name=\"runs\"/><br><br>\n",
    "                    <label for=\"wickets\">Enter the Wickets:</label>\n",
    "                    <input name=\"wickets\" type=\"text\"/><br><br>\n",
    "                    <label for=\"overs\">Enter the overs:</label>\n",
    "                    <input name=\"overs\" type=\"text\"/><br><br>\n",
    "                    <label for=\"striker\">Enter the striker runs:</label>\n",
    "                    <input name=\"striker\" type=\"text\" /><br><br>\n",
    "                    <label for=\"non-striker\">Enter the non-striker runs:</label>\n",
    "                    <input name=\"non_striker\" type=\"text\"/>\n",
    "                    <p><input type=\"submit\" value=\"Predict the score\" /></p>\n",
    "                </form>\n",
    "            </body>\n",
    "        </html>\n",
    "    '''.format(errors=errors)\n",
    "if __name__== \"__main__\":\n",
    "    from werkzeug.serving import run_simple\n",
    "    run_simple('localhost', 10000, app)\n",
    "\n"
   ]
  },
  {
   "cell_type": "code",
   "execution_count": null,
   "metadata": {},
   "outputs": [],
   "source": []
  }
 ],
 "metadata": {
  "kernelspec": {
   "display_name": "Python 3",
   "language": "python",
   "name": "python3"
  },
  "language_info": {
   "codemirror_mode": {
    "name": "ipython",
    "version": 3
   },
   "file_extension": ".py",
   "mimetype": "text/x-python",
   "name": "python",
   "nbconvert_exporter": "python",
   "pygments_lexer": "ipython3",
   "version": "3.8.2"
  }
 },
 "nbformat": 4,
 "nbformat_minor": 4
}
